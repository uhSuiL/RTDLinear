{
 "cells": [
  {
   "cell_type": "code",
   "id": "initial_id",
   "metadata": {
    "collapsed": true,
    "ExecuteTime": {
     "end_time": "2025-01-25T08:24:07.533451Z",
     "start_time": "2025-01-25T08:24:07.528946Z"
    }
   },
   "source": [
    "import dataset as ds\n",
    "\n",
    "from dataset.util import load_clustered_data, train_valid_test, prepare_time_series\n",
    "from dataset import SlidingWinDataset, ClusterDataset\n",
    "\n",
    "import pandas as pd\n",
    "import numpy as np\n",
    "\n",
    "from torch.utils.data import Dataset\n",
    "from sklearn.svm import SVR\n",
    "from sklearn.metrics import mean_squared_error, mean_absolute_error, root_mean_squared_error, mean_absolute_percentage_error\n",
    "from statsmodels.tsa.stattools import adfuller\n",
    "from statsmodels.tsa.arima.model import ARIMA\n",
    "\n",
    "from model.conventional import individual_model_pipeline\n",
    "\n",
    "from concurrent.futures import ProcessPoolExecutor, Future"
   ],
   "outputs": [],
   "execution_count": 25
  },
  {
   "metadata": {
    "ExecuteTime": {
     "end_time": "2025-01-25T08:24:07.552389Z",
     "start_time": "2025-01-25T08:24:07.547515Z"
    }
   },
   "cell_type": "code",
   "source": [
    "\"\"\"\n",
    "每个序列一个ARIMA模型\n",
    "每个聚类统计一次指标，算平均值\n",
    "\"\"\""
   ],
   "id": "494f81f677aa8836",
   "outputs": [
    {
     "data": {
      "text/plain": [
       "'\\n每个序列一个ARIMA模型\\n每个聚类统计一次指标，算平均值\\n'"
      ]
     },
     "execution_count": 26,
     "metadata": {},
     "output_type": "execute_result"
    }
   ],
   "execution_count": 26
  },
  {
   "metadata": {
    "ExecuteTime": {
     "end_time": "2025-01-25T08:24:07.599492Z",
     "start_time": "2025-01-25T08:24:07.572269Z"
    }
   },
   "cell_type": "code",
   "source": [
    "df = pd.read_csv('../data/processed/data.csv')\n",
    "df"
   ],
   "id": "fb7319283597ec92",
   "outputs": [
    {
     "data": {
      "text/plain": [
       "     Unnamed: 0    9012    9384    9336    9173    9391    9392    9373  \\\n",
       "0    2016-02-01     600  112800   52800  406400  764700  472200   72300   \n",
       "1    2016-02-02  504000   84700   29800  172100  670600  518200   37200   \n",
       "2    2016-02-03  467300   47500   10300  526800   60500   17200  269700   \n",
       "3    2016-02-04  382200   11300   55400  532100   77900   61700  258300   \n",
       "4    2016-02-05  298700  268600   99300  522600  282600  205800  284900   \n",
       "..          ...     ...     ...     ...     ...     ...     ...     ...   \n",
       "726  2018-01-27  215100   40200  301000   40600   13300   58500  319200   \n",
       "727  2018-01-28  187800   10200  290200   34900   30800   44500  306200   \n",
       "728  2018-01-29  163500   13000   62600   74700   19800   99000  297100   \n",
       "729  2018-01-30  139000    8300   84000   77200   60400   57300   70000   \n",
       "730  2018-01-31  138200  254800  102800  132800   96700   54100   69700   \n",
       "\n",
       "       9374    9379  ...    9194    9195    9214    9191    9192    9193  \\\n",
       "0     89900   51400  ...   56600   89100  162900  265700  334700   19800   \n",
       "1     88100   58400  ...   23600   46600  230500  199200  298000   52800   \n",
       "2    260700  167500  ...   74700   95900  233700  281600  215900   61500   \n",
       "3    227000  146200  ...  119100  147000  216100  282900  257000  152900   \n",
       "4    209400  206400  ...  137600  168900  204400  332400  254100  251000   \n",
       "..      ...     ...  ...     ...     ...     ...     ...     ...     ...   \n",
       "726  203700  140500  ...  219500  103600  214800  149300   28500  245900   \n",
       "727  216600  139600  ...  234900  123000  235800  334400    2500  221200   \n",
       "728  211600  125600  ...  234900  120100  264900  386400    7600  177900   \n",
       "729   83700  211400  ...  209900  117900   41200  354800   32200  117200   \n",
       "730   88100  327400  ...  198900  120600  174300   48300   34800   74200   \n",
       "\n",
       "       9213    9211    9212    9198  \n",
       "0     59100  187100  214500   89200  \n",
       "1    204800  156800  218600   42500  \n",
       "2    264500  244400  244000  212300  \n",
       "3    254200  231300  225000  158900  \n",
       "4    275600  215800  221900  198500  \n",
       "..      ...     ...     ...     ...  \n",
       "726  188400  175100  222400  103620  \n",
       "727  214300  221900  188500  129090  \n",
       "728  313500  256500  180300  172510  \n",
       "729  120500  267400  229400  157410  \n",
       "730  148300  150400  218700  289870  \n",
       "\n",
       "[731 rows x 187 columns]"
      ],
      "text/html": [
       "<div>\n",
       "<style scoped>\n",
       "    .dataframe tbody tr th:only-of-type {\n",
       "        vertical-align: middle;\n",
       "    }\n",
       "\n",
       "    .dataframe tbody tr th {\n",
       "        vertical-align: top;\n",
       "    }\n",
       "\n",
       "    .dataframe thead th {\n",
       "        text-align: right;\n",
       "    }\n",
       "</style>\n",
       "<table border=\"1\" class=\"dataframe\">\n",
       "  <thead>\n",
       "    <tr style=\"text-align: right;\">\n",
       "      <th></th>\n",
       "      <th>Unnamed: 0</th>\n",
       "      <th>9012</th>\n",
       "      <th>9384</th>\n",
       "      <th>9336</th>\n",
       "      <th>9173</th>\n",
       "      <th>9391</th>\n",
       "      <th>9392</th>\n",
       "      <th>9373</th>\n",
       "      <th>9374</th>\n",
       "      <th>9379</th>\n",
       "      <th>...</th>\n",
       "      <th>9194</th>\n",
       "      <th>9195</th>\n",
       "      <th>9214</th>\n",
       "      <th>9191</th>\n",
       "      <th>9192</th>\n",
       "      <th>9193</th>\n",
       "      <th>9213</th>\n",
       "      <th>9211</th>\n",
       "      <th>9212</th>\n",
       "      <th>9198</th>\n",
       "    </tr>\n",
       "  </thead>\n",
       "  <tbody>\n",
       "    <tr>\n",
       "      <th>0</th>\n",
       "      <td>2016-02-01</td>\n",
       "      <td>600</td>\n",
       "      <td>112800</td>\n",
       "      <td>52800</td>\n",
       "      <td>406400</td>\n",
       "      <td>764700</td>\n",
       "      <td>472200</td>\n",
       "      <td>72300</td>\n",
       "      <td>89900</td>\n",
       "      <td>51400</td>\n",
       "      <td>...</td>\n",
       "      <td>56600</td>\n",
       "      <td>89100</td>\n",
       "      <td>162900</td>\n",
       "      <td>265700</td>\n",
       "      <td>334700</td>\n",
       "      <td>19800</td>\n",
       "      <td>59100</td>\n",
       "      <td>187100</td>\n",
       "      <td>214500</td>\n",
       "      <td>89200</td>\n",
       "    </tr>\n",
       "    <tr>\n",
       "      <th>1</th>\n",
       "      <td>2016-02-02</td>\n",
       "      <td>504000</td>\n",
       "      <td>84700</td>\n",
       "      <td>29800</td>\n",
       "      <td>172100</td>\n",
       "      <td>670600</td>\n",
       "      <td>518200</td>\n",
       "      <td>37200</td>\n",
       "      <td>88100</td>\n",
       "      <td>58400</td>\n",
       "      <td>...</td>\n",
       "      <td>23600</td>\n",
       "      <td>46600</td>\n",
       "      <td>230500</td>\n",
       "      <td>199200</td>\n",
       "      <td>298000</td>\n",
       "      <td>52800</td>\n",
       "      <td>204800</td>\n",
       "      <td>156800</td>\n",
       "      <td>218600</td>\n",
       "      <td>42500</td>\n",
       "    </tr>\n",
       "    <tr>\n",
       "      <th>2</th>\n",
       "      <td>2016-02-03</td>\n",
       "      <td>467300</td>\n",
       "      <td>47500</td>\n",
       "      <td>10300</td>\n",
       "      <td>526800</td>\n",
       "      <td>60500</td>\n",
       "      <td>17200</td>\n",
       "      <td>269700</td>\n",
       "      <td>260700</td>\n",
       "      <td>167500</td>\n",
       "      <td>...</td>\n",
       "      <td>74700</td>\n",
       "      <td>95900</td>\n",
       "      <td>233700</td>\n",
       "      <td>281600</td>\n",
       "      <td>215900</td>\n",
       "      <td>61500</td>\n",
       "      <td>264500</td>\n",
       "      <td>244400</td>\n",
       "      <td>244000</td>\n",
       "      <td>212300</td>\n",
       "    </tr>\n",
       "    <tr>\n",
       "      <th>3</th>\n",
       "      <td>2016-02-04</td>\n",
       "      <td>382200</td>\n",
       "      <td>11300</td>\n",
       "      <td>55400</td>\n",
       "      <td>532100</td>\n",
       "      <td>77900</td>\n",
       "      <td>61700</td>\n",
       "      <td>258300</td>\n",
       "      <td>227000</td>\n",
       "      <td>146200</td>\n",
       "      <td>...</td>\n",
       "      <td>119100</td>\n",
       "      <td>147000</td>\n",
       "      <td>216100</td>\n",
       "      <td>282900</td>\n",
       "      <td>257000</td>\n",
       "      <td>152900</td>\n",
       "      <td>254200</td>\n",
       "      <td>231300</td>\n",
       "      <td>225000</td>\n",
       "      <td>158900</td>\n",
       "    </tr>\n",
       "    <tr>\n",
       "      <th>4</th>\n",
       "      <td>2016-02-05</td>\n",
       "      <td>298700</td>\n",
       "      <td>268600</td>\n",
       "      <td>99300</td>\n",
       "      <td>522600</td>\n",
       "      <td>282600</td>\n",
       "      <td>205800</td>\n",
       "      <td>284900</td>\n",
       "      <td>209400</td>\n",
       "      <td>206400</td>\n",
       "      <td>...</td>\n",
       "      <td>137600</td>\n",
       "      <td>168900</td>\n",
       "      <td>204400</td>\n",
       "      <td>332400</td>\n",
       "      <td>254100</td>\n",
       "      <td>251000</td>\n",
       "      <td>275600</td>\n",
       "      <td>215800</td>\n",
       "      <td>221900</td>\n",
       "      <td>198500</td>\n",
       "    </tr>\n",
       "    <tr>\n",
       "      <th>...</th>\n",
       "      <td>...</td>\n",
       "      <td>...</td>\n",
       "      <td>...</td>\n",
       "      <td>...</td>\n",
       "      <td>...</td>\n",
       "      <td>...</td>\n",
       "      <td>...</td>\n",
       "      <td>...</td>\n",
       "      <td>...</td>\n",
       "      <td>...</td>\n",
       "      <td>...</td>\n",
       "      <td>...</td>\n",
       "      <td>...</td>\n",
       "      <td>...</td>\n",
       "      <td>...</td>\n",
       "      <td>...</td>\n",
       "      <td>...</td>\n",
       "      <td>...</td>\n",
       "      <td>...</td>\n",
       "      <td>...</td>\n",
       "      <td>...</td>\n",
       "    </tr>\n",
       "    <tr>\n",
       "      <th>726</th>\n",
       "      <td>2018-01-27</td>\n",
       "      <td>215100</td>\n",
       "      <td>40200</td>\n",
       "      <td>301000</td>\n",
       "      <td>40600</td>\n",
       "      <td>13300</td>\n",
       "      <td>58500</td>\n",
       "      <td>319200</td>\n",
       "      <td>203700</td>\n",
       "      <td>140500</td>\n",
       "      <td>...</td>\n",
       "      <td>219500</td>\n",
       "      <td>103600</td>\n",
       "      <td>214800</td>\n",
       "      <td>149300</td>\n",
       "      <td>28500</td>\n",
       "      <td>245900</td>\n",
       "      <td>188400</td>\n",
       "      <td>175100</td>\n",
       "      <td>222400</td>\n",
       "      <td>103620</td>\n",
       "    </tr>\n",
       "    <tr>\n",
       "      <th>727</th>\n",
       "      <td>2018-01-28</td>\n",
       "      <td>187800</td>\n",
       "      <td>10200</td>\n",
       "      <td>290200</td>\n",
       "      <td>34900</td>\n",
       "      <td>30800</td>\n",
       "      <td>44500</td>\n",
       "      <td>306200</td>\n",
       "      <td>216600</td>\n",
       "      <td>139600</td>\n",
       "      <td>...</td>\n",
       "      <td>234900</td>\n",
       "      <td>123000</td>\n",
       "      <td>235800</td>\n",
       "      <td>334400</td>\n",
       "      <td>2500</td>\n",
       "      <td>221200</td>\n",
       "      <td>214300</td>\n",
       "      <td>221900</td>\n",
       "      <td>188500</td>\n",
       "      <td>129090</td>\n",
       "    </tr>\n",
       "    <tr>\n",
       "      <th>728</th>\n",
       "      <td>2018-01-29</td>\n",
       "      <td>163500</td>\n",
       "      <td>13000</td>\n",
       "      <td>62600</td>\n",
       "      <td>74700</td>\n",
       "      <td>19800</td>\n",
       "      <td>99000</td>\n",
       "      <td>297100</td>\n",
       "      <td>211600</td>\n",
       "      <td>125600</td>\n",
       "      <td>...</td>\n",
       "      <td>234900</td>\n",
       "      <td>120100</td>\n",
       "      <td>264900</td>\n",
       "      <td>386400</td>\n",
       "      <td>7600</td>\n",
       "      <td>177900</td>\n",
       "      <td>313500</td>\n",
       "      <td>256500</td>\n",
       "      <td>180300</td>\n",
       "      <td>172510</td>\n",
       "    </tr>\n",
       "    <tr>\n",
       "      <th>729</th>\n",
       "      <td>2018-01-30</td>\n",
       "      <td>139000</td>\n",
       "      <td>8300</td>\n",
       "      <td>84000</td>\n",
       "      <td>77200</td>\n",
       "      <td>60400</td>\n",
       "      <td>57300</td>\n",
       "      <td>70000</td>\n",
       "      <td>83700</td>\n",
       "      <td>211400</td>\n",
       "      <td>...</td>\n",
       "      <td>209900</td>\n",
       "      <td>117900</td>\n",
       "      <td>41200</td>\n",
       "      <td>354800</td>\n",
       "      <td>32200</td>\n",
       "      <td>117200</td>\n",
       "      <td>120500</td>\n",
       "      <td>267400</td>\n",
       "      <td>229400</td>\n",
       "      <td>157410</td>\n",
       "    </tr>\n",
       "    <tr>\n",
       "      <th>730</th>\n",
       "      <td>2018-01-31</td>\n",
       "      <td>138200</td>\n",
       "      <td>254800</td>\n",
       "      <td>102800</td>\n",
       "      <td>132800</td>\n",
       "      <td>96700</td>\n",
       "      <td>54100</td>\n",
       "      <td>69700</td>\n",
       "      <td>88100</td>\n",
       "      <td>327400</td>\n",
       "      <td>...</td>\n",
       "      <td>198900</td>\n",
       "      <td>120600</td>\n",
       "      <td>174300</td>\n",
       "      <td>48300</td>\n",
       "      <td>34800</td>\n",
       "      <td>74200</td>\n",
       "      <td>148300</td>\n",
       "      <td>150400</td>\n",
       "      <td>218700</td>\n",
       "      <td>289870</td>\n",
       "    </tr>\n",
       "  </tbody>\n",
       "</table>\n",
       "<p>731 rows × 187 columns</p>\n",
       "</div>"
      ]
     },
     "execution_count": 27,
     "metadata": {},
     "output_type": "execute_result"
    }
   ],
   "execution_count": 27
  },
  {
   "metadata": {
    "ExecuteTime": {
     "end_time": "2025-01-25T08:24:07.684702Z",
     "start_time": "2025-01-25T08:24:07.664931Z"
    }
   },
   "cell_type": "code",
   "source": [
    "def test_stationarity(timeseries):\n",
    "    # 执行Dickey-Fuller测试\n",
    "    print('Results of Dickey-Fuller Test:')\n",
    "    dftest = adfuller(timeseries, autolag='AIC')\n",
    "    dfoutput = pd.Series(dftest[0:4], index=['Test Statistic', 'p-value', '#Lags Used', 'Number of Observations Used'])\n",
    "    for key, value in dftest[4].items():\n",
    "        dfoutput['Critical Value (%s)' % key] = value\n",
    "    print(dfoutput)\n",
    "\t\n",
    "test_stationarity(df['9012'])"
   ],
   "id": "96d5c650ad3c3686",
   "outputs": [
    {
     "name": "stdout",
     "output_type": "stream",
     "text": [
      "Results of Dickey-Fuller Test:\n",
      "Test Statistic                  -4.892466\n",
      "p-value                          0.000036\n",
      "#Lags Used                      14.000000\n",
      "Number of Observations Used    716.000000\n",
      "Critical Value (1%)             -3.439516\n",
      "Critical Value (5%)             -2.865585\n",
      "Critical Value (10%)            -2.568924\n",
      "dtype: float64\n"
     ]
    }
   ],
   "execution_count": 28
  },
  {
   "metadata": {
    "ExecuteTime": {
     "end_time": "2025-01-25T08:24:07.779907Z",
     "start_time": "2025-01-25T08:24:07.751833Z"
    }
   },
   "cell_type": "code",
   "source": "test_stationarity(df['9012'].diff(1).dropna())",
   "id": "cf3967dfcad9a25b",
   "outputs": [
    {
     "name": "stdout",
     "output_type": "stream",
     "text": [
      "Results of Dickey-Fuller Test:\n",
      "Test Statistic                -1.130286e+01\n",
      "p-value                        1.294598e-20\n",
      "#Lags Used                     1.300000e+01\n",
      "Number of Observations Used    7.160000e+02\n",
      "Critical Value (1%)           -3.439516e+00\n",
      "Critical Value (5%)           -2.865585e+00\n",
      "Critical Value (10%)          -2.568924e+00\n",
      "dtype: float64\n"
     ]
    }
   ],
   "execution_count": 29
  },
  {
   "metadata": {
    "ExecuteTime": {
     "end_time": "2025-01-25T08:24:07.892103Z",
     "start_time": "2025-01-25T08:24:07.870542Z"
    }
   },
   "cell_type": "code",
   "source": [
    "data = load_clustered_data(\n",
    "\t# cluster_info='../data/cluster_info/cluster_info_f_a.csv',\n",
    "\t# cluster_info='../data/cluster_info/cluster_info_f_a_pca.csv',\n",
    "\tcluster_info='../data/cluster_info/cluster_info_a_s.csv',\n",
    "\tprocessed_data='../data/processed/data.csv'\n",
    ")\n",
    "\n",
    "\n",
    "len(data)"
   ],
   "id": "9d1e8da0eecbb70d",
   "outputs": [
    {
     "data": {
      "text/plain": [
       "4"
      ]
     },
     "execution_count": 30,
     "metadata": {},
     "output_type": "execute_result"
    }
   ],
   "execution_count": 30
  },
  {
   "metadata": {
    "ExecuteTime": {
     "end_time": "2025-01-25T08:24:08.236214Z",
     "start_time": "2025-01-25T08:24:08.223723Z"
    }
   },
   "cell_type": "code",
   "source": "data[0]",
   "id": "b49046ce5f971d24",
   "outputs": [
    {
     "data": {
      "text/plain": [
       "              9012    9256    9200    9272    9060    9377    9048    9333  \\\n",
       "2016-02-01     600   42100  271300  193600   69200  224900   18400   95800   \n",
       "2016-02-02  504000  405800  227900  179200  375400  277900  413600  152600   \n",
       "2016-02-03  467300  377800  136600  220300  231900  245100  336300  260400   \n",
       "2016-02-04  382200  325500   14300  130800  194300  311100  323900  340100   \n",
       "2016-02-05  298700  767800  487100  113700  194300  337900  229900  374200   \n",
       "...            ...     ...     ...     ...     ...     ...     ...     ...   \n",
       "2018-01-27  215100   41800  350400  200100  199300  103700  222500   78300   \n",
       "2018-01-28  187800  152200  320700  182800  123700  201000  222800   30200   \n",
       "2018-01-29  163500   72800  298300  181600  382100  207300   52500  100100   \n",
       "2018-01-30  139000  167300  293500  197000  349200   84200   37900  107700   \n",
       "2018-01-31  138200  129900  217600  278500  299400   90700  101500   84300   \n",
       "\n",
       "              9053    9045  ...    9409    9428    9239    9270    9220  \\\n",
       "2016-02-01  184300  281000  ...   43700   25800  243800   29600  496900   \n",
       "2016-02-02  159500  221800  ...  137100  284600  253300  140500  533800   \n",
       "2016-02-03  154100   34800  ...  192800  336000  383700  258900  582100   \n",
       "2016-02-04  259800   12900  ...  230200  295100  380500   95200  132100   \n",
       "2016-02-05  288300  471700  ...  200100  426500  286000   95100  406000   \n",
       "...            ...     ...  ...     ...     ...     ...     ...     ...   \n",
       "2018-01-27   90800  127400  ...   89500  165900  295500  242200  305600   \n",
       "2018-01-28   76000  126800  ...  141400  251600  305000  266400  431000   \n",
       "2018-01-29  168600  111000  ...  196400  230200  344500  309700  489700   \n",
       "2018-01-30  159300  209800  ...  298100  135000   47000  106300  617200   \n",
       "2018-01-31  153700  169100  ...   75700   91300   38400  130600  716900   \n",
       "\n",
       "              9206    9203    9207    9341    9337  \n",
       "2016-02-01  351400  281700   89400  106300  109300  \n",
       "2016-02-02  350200  330900   42700   62200   88800  \n",
       "2016-02-03  299900  281200  195900  112800  126600  \n",
       "2016-02-04  126300  197700  285400  253700  172800  \n",
       "2016-02-05  384400  264900  298800  120200  166600  \n",
       "...            ...     ...     ...     ...     ...  \n",
       "2018-01-27  376200  187900  182700  151600  451400  \n",
       "2018-01-28  395800  202800  183700  200900  449700  \n",
       "2018-01-29  407900  234300  195300  171900   69500  \n",
       "2018-01-30  411700   93200  257500  199700   75200  \n",
       "2018-01-31  553800   90200  183500   55300  110600  \n",
       "\n",
       "[731 rows x 57 columns]"
      ],
      "text/html": [
       "<div>\n",
       "<style scoped>\n",
       "    .dataframe tbody tr th:only-of-type {\n",
       "        vertical-align: middle;\n",
       "    }\n",
       "\n",
       "    .dataframe tbody tr th {\n",
       "        vertical-align: top;\n",
       "    }\n",
       "\n",
       "    .dataframe thead th {\n",
       "        text-align: right;\n",
       "    }\n",
       "</style>\n",
       "<table border=\"1\" class=\"dataframe\">\n",
       "  <thead>\n",
       "    <tr style=\"text-align: right;\">\n",
       "      <th></th>\n",
       "      <th>9012</th>\n",
       "      <th>9256</th>\n",
       "      <th>9200</th>\n",
       "      <th>9272</th>\n",
       "      <th>9060</th>\n",
       "      <th>9377</th>\n",
       "      <th>9048</th>\n",
       "      <th>9333</th>\n",
       "      <th>9053</th>\n",
       "      <th>9045</th>\n",
       "      <th>...</th>\n",
       "      <th>9409</th>\n",
       "      <th>9428</th>\n",
       "      <th>9239</th>\n",
       "      <th>9270</th>\n",
       "      <th>9220</th>\n",
       "      <th>9206</th>\n",
       "      <th>9203</th>\n",
       "      <th>9207</th>\n",
       "      <th>9341</th>\n",
       "      <th>9337</th>\n",
       "    </tr>\n",
       "  </thead>\n",
       "  <tbody>\n",
       "    <tr>\n",
       "      <th>2016-02-01</th>\n",
       "      <td>600</td>\n",
       "      <td>42100</td>\n",
       "      <td>271300</td>\n",
       "      <td>193600</td>\n",
       "      <td>69200</td>\n",
       "      <td>224900</td>\n",
       "      <td>18400</td>\n",
       "      <td>95800</td>\n",
       "      <td>184300</td>\n",
       "      <td>281000</td>\n",
       "      <td>...</td>\n",
       "      <td>43700</td>\n",
       "      <td>25800</td>\n",
       "      <td>243800</td>\n",
       "      <td>29600</td>\n",
       "      <td>496900</td>\n",
       "      <td>351400</td>\n",
       "      <td>281700</td>\n",
       "      <td>89400</td>\n",
       "      <td>106300</td>\n",
       "      <td>109300</td>\n",
       "    </tr>\n",
       "    <tr>\n",
       "      <th>2016-02-02</th>\n",
       "      <td>504000</td>\n",
       "      <td>405800</td>\n",
       "      <td>227900</td>\n",
       "      <td>179200</td>\n",
       "      <td>375400</td>\n",
       "      <td>277900</td>\n",
       "      <td>413600</td>\n",
       "      <td>152600</td>\n",
       "      <td>159500</td>\n",
       "      <td>221800</td>\n",
       "      <td>...</td>\n",
       "      <td>137100</td>\n",
       "      <td>284600</td>\n",
       "      <td>253300</td>\n",
       "      <td>140500</td>\n",
       "      <td>533800</td>\n",
       "      <td>350200</td>\n",
       "      <td>330900</td>\n",
       "      <td>42700</td>\n",
       "      <td>62200</td>\n",
       "      <td>88800</td>\n",
       "    </tr>\n",
       "    <tr>\n",
       "      <th>2016-02-03</th>\n",
       "      <td>467300</td>\n",
       "      <td>377800</td>\n",
       "      <td>136600</td>\n",
       "      <td>220300</td>\n",
       "      <td>231900</td>\n",
       "      <td>245100</td>\n",
       "      <td>336300</td>\n",
       "      <td>260400</td>\n",
       "      <td>154100</td>\n",
       "      <td>34800</td>\n",
       "      <td>...</td>\n",
       "      <td>192800</td>\n",
       "      <td>336000</td>\n",
       "      <td>383700</td>\n",
       "      <td>258900</td>\n",
       "      <td>582100</td>\n",
       "      <td>299900</td>\n",
       "      <td>281200</td>\n",
       "      <td>195900</td>\n",
       "      <td>112800</td>\n",
       "      <td>126600</td>\n",
       "    </tr>\n",
       "    <tr>\n",
       "      <th>2016-02-04</th>\n",
       "      <td>382200</td>\n",
       "      <td>325500</td>\n",
       "      <td>14300</td>\n",
       "      <td>130800</td>\n",
       "      <td>194300</td>\n",
       "      <td>311100</td>\n",
       "      <td>323900</td>\n",
       "      <td>340100</td>\n",
       "      <td>259800</td>\n",
       "      <td>12900</td>\n",
       "      <td>...</td>\n",
       "      <td>230200</td>\n",
       "      <td>295100</td>\n",
       "      <td>380500</td>\n",
       "      <td>95200</td>\n",
       "      <td>132100</td>\n",
       "      <td>126300</td>\n",
       "      <td>197700</td>\n",
       "      <td>285400</td>\n",
       "      <td>253700</td>\n",
       "      <td>172800</td>\n",
       "    </tr>\n",
       "    <tr>\n",
       "      <th>2016-02-05</th>\n",
       "      <td>298700</td>\n",
       "      <td>767800</td>\n",
       "      <td>487100</td>\n",
       "      <td>113700</td>\n",
       "      <td>194300</td>\n",
       "      <td>337900</td>\n",
       "      <td>229900</td>\n",
       "      <td>374200</td>\n",
       "      <td>288300</td>\n",
       "      <td>471700</td>\n",
       "      <td>...</td>\n",
       "      <td>200100</td>\n",
       "      <td>426500</td>\n",
       "      <td>286000</td>\n",
       "      <td>95100</td>\n",
       "      <td>406000</td>\n",
       "      <td>384400</td>\n",
       "      <td>264900</td>\n",
       "      <td>298800</td>\n",
       "      <td>120200</td>\n",
       "      <td>166600</td>\n",
       "    </tr>\n",
       "    <tr>\n",
       "      <th>...</th>\n",
       "      <td>...</td>\n",
       "      <td>...</td>\n",
       "      <td>...</td>\n",
       "      <td>...</td>\n",
       "      <td>...</td>\n",
       "      <td>...</td>\n",
       "      <td>...</td>\n",
       "      <td>...</td>\n",
       "      <td>...</td>\n",
       "      <td>...</td>\n",
       "      <td>...</td>\n",
       "      <td>...</td>\n",
       "      <td>...</td>\n",
       "      <td>...</td>\n",
       "      <td>...</td>\n",
       "      <td>...</td>\n",
       "      <td>...</td>\n",
       "      <td>...</td>\n",
       "      <td>...</td>\n",
       "      <td>...</td>\n",
       "      <td>...</td>\n",
       "    </tr>\n",
       "    <tr>\n",
       "      <th>2018-01-27</th>\n",
       "      <td>215100</td>\n",
       "      <td>41800</td>\n",
       "      <td>350400</td>\n",
       "      <td>200100</td>\n",
       "      <td>199300</td>\n",
       "      <td>103700</td>\n",
       "      <td>222500</td>\n",
       "      <td>78300</td>\n",
       "      <td>90800</td>\n",
       "      <td>127400</td>\n",
       "      <td>...</td>\n",
       "      <td>89500</td>\n",
       "      <td>165900</td>\n",
       "      <td>295500</td>\n",
       "      <td>242200</td>\n",
       "      <td>305600</td>\n",
       "      <td>376200</td>\n",
       "      <td>187900</td>\n",
       "      <td>182700</td>\n",
       "      <td>151600</td>\n",
       "      <td>451400</td>\n",
       "    </tr>\n",
       "    <tr>\n",
       "      <th>2018-01-28</th>\n",
       "      <td>187800</td>\n",
       "      <td>152200</td>\n",
       "      <td>320700</td>\n",
       "      <td>182800</td>\n",
       "      <td>123700</td>\n",
       "      <td>201000</td>\n",
       "      <td>222800</td>\n",
       "      <td>30200</td>\n",
       "      <td>76000</td>\n",
       "      <td>126800</td>\n",
       "      <td>...</td>\n",
       "      <td>141400</td>\n",
       "      <td>251600</td>\n",
       "      <td>305000</td>\n",
       "      <td>266400</td>\n",
       "      <td>431000</td>\n",
       "      <td>395800</td>\n",
       "      <td>202800</td>\n",
       "      <td>183700</td>\n",
       "      <td>200900</td>\n",
       "      <td>449700</td>\n",
       "    </tr>\n",
       "    <tr>\n",
       "      <th>2018-01-29</th>\n",
       "      <td>163500</td>\n",
       "      <td>72800</td>\n",
       "      <td>298300</td>\n",
       "      <td>181600</td>\n",
       "      <td>382100</td>\n",
       "      <td>207300</td>\n",
       "      <td>52500</td>\n",
       "      <td>100100</td>\n",
       "      <td>168600</td>\n",
       "      <td>111000</td>\n",
       "      <td>...</td>\n",
       "      <td>196400</td>\n",
       "      <td>230200</td>\n",
       "      <td>344500</td>\n",
       "      <td>309700</td>\n",
       "      <td>489700</td>\n",
       "      <td>407900</td>\n",
       "      <td>234300</td>\n",
       "      <td>195300</td>\n",
       "      <td>171900</td>\n",
       "      <td>69500</td>\n",
       "    </tr>\n",
       "    <tr>\n",
       "      <th>2018-01-30</th>\n",
       "      <td>139000</td>\n",
       "      <td>167300</td>\n",
       "      <td>293500</td>\n",
       "      <td>197000</td>\n",
       "      <td>349200</td>\n",
       "      <td>84200</td>\n",
       "      <td>37900</td>\n",
       "      <td>107700</td>\n",
       "      <td>159300</td>\n",
       "      <td>209800</td>\n",
       "      <td>...</td>\n",
       "      <td>298100</td>\n",
       "      <td>135000</td>\n",
       "      <td>47000</td>\n",
       "      <td>106300</td>\n",
       "      <td>617200</td>\n",
       "      <td>411700</td>\n",
       "      <td>93200</td>\n",
       "      <td>257500</td>\n",
       "      <td>199700</td>\n",
       "      <td>75200</td>\n",
       "    </tr>\n",
       "    <tr>\n",
       "      <th>2018-01-31</th>\n",
       "      <td>138200</td>\n",
       "      <td>129900</td>\n",
       "      <td>217600</td>\n",
       "      <td>278500</td>\n",
       "      <td>299400</td>\n",
       "      <td>90700</td>\n",
       "      <td>101500</td>\n",
       "      <td>84300</td>\n",
       "      <td>153700</td>\n",
       "      <td>169100</td>\n",
       "      <td>...</td>\n",
       "      <td>75700</td>\n",
       "      <td>91300</td>\n",
       "      <td>38400</td>\n",
       "      <td>130600</td>\n",
       "      <td>716900</td>\n",
       "      <td>553800</td>\n",
       "      <td>90200</td>\n",
       "      <td>183500</td>\n",
       "      <td>55300</td>\n",
       "      <td>110600</td>\n",
       "    </tr>\n",
       "  </tbody>\n",
       "</table>\n",
       "<p>731 rows × 57 columns</p>\n",
       "</div>"
      ]
     },
     "execution_count": 31,
     "metadata": {},
     "output_type": "execute_result"
    }
   ],
   "execution_count": 31
  },
  {
   "metadata": {
    "ExecuteTime": {
     "end_time": "2025-01-25T08:24:08.373174Z",
     "start_time": "2025-01-25T08:24:08.367987Z"
    }
   },
   "cell_type": "code",
   "source": [
    "def train_test(_s):\n",
    "\ttest_len = int(_s.shape[0] * 0.2)\n",
    "\t_train_data = _s.iloc[:-test_len]\n",
    "\t_test_data = _s.iloc[-test_len:]\n",
    "\t_model = ARIMA(_train_data.dropna().to_numpy(), order=(20, 1, 1)).fit()\n",
    "\t_pred_test_data = _model.forecast(steps=test_len)\n",
    "\tsmape = (2 * abs(_pred_test_data - _test_data) / (abs(_pred_test_data) + abs(_test_data))).mean()\n",
    "\treturn (\n",
    "\t\tmean_squared_error(_test_data, _pred_test_data),\n",
    "\t\troot_mean_squared_error(_test_data, _pred_test_data) / _test_data.mean(),\n",
    "\t\tmean_absolute_error(_test_data, _pred_test_data) / _test_data.mean(),\n",
    "\t\t# mean_absolute_percentage_error(_test_data, _pred_test_data),\n",
    "\t\tsmape\n",
    "\t)"
   ],
   "id": "372353d13c7573ce",
   "outputs": [],
   "execution_count": 32
  },
  {
   "metadata": {
    "ExecuteTime": {
     "end_time": "2025-01-25T08:24:10.773078Z",
     "start_time": "2025-01-25T08:24:08.494405Z"
    }
   },
   "cell_type": "code",
   "source": "train_test(data[0].iloc[:, 0])",
   "id": "275c024de8922e55",
   "outputs": [
    {
     "data": {
      "text/plain": [
       "(7857901604.643747,\n",
       " 0.4255197832140973,\n",
       " 0.33944729108953675,\n",
       " 0.37481090530647987)"
      ]
     },
     "execution_count": 33,
     "metadata": {},
     "output_type": "execute_result"
    }
   ],
   "execution_count": 33
  },
  {
   "metadata": {
    "ExecuteTime": {
     "end_time": "2025-01-25T08:24:10.852252Z",
     "start_time": "2025-01-25T08:24:10.849086Z"
    }
   },
   "cell_type": "code",
   "source": "# assert False",
   "id": "1c566279cf1ac1d3",
   "outputs": [],
   "execution_count": 34
  },
  {
   "metadata": {
    "ExecuteTime": {
     "end_time": "2025-01-25T08:29:55.748252Z",
     "start_time": "2025-01-25T08:24:10.873701Z"
    }
   },
   "cell_type": "code",
   "source": [
    "metrics_list = []\n",
    "for c, c_df in enumerate(data):\n",
    "\tprint(f'>>>>>>>> cluster {c} <<<<<<<<')\n",
    "\tc_metrics = {'mse': [], 's-rmse': [], 's-mae': [], 'smape': []}\n",
    "\tfor i in range(c_df.shape[1]):\n",
    "\t\tprint(f'(series {i})')\n",
    "\t\t\n",
    "\t\tresult = train_test(c_df.iloc[:, i])\n",
    "\t\t\n",
    "\t\tc_metrics['mse'].append(result[0])\n",
    "\t\tc_metrics['s-rmse'].append(result[1])\n",
    "\t\tc_metrics['s-mae'].append(result[2])\n",
    "\t\tc_metrics['smape'].append(result[3])\n",
    "\t\t\n",
    "\tmetrics_list.append(c_metrics)\n",
    "\tprint(f'MSE: {np.mean(c_metrics['mse'])}')\n",
    "\tprint(f's-rmse: {np.mean(c_metrics['s-rmse'])}')\n",
    "\tprint(f's-mae: {np.mean(c_metrics['s-mae'])}')\n",
    "\tprint(f'smape: {np.mean(c_metrics['smape'])}')"
   ],
   "id": "2e8281c3e14984e0",
   "outputs": [
    {
     "name": "stdout",
     "output_type": "stream",
     "text": [
      ">>>>>>>> cluster 0 <<<<<<<<\n",
      "(series 0)\n",
      "(series 1)\n",
      "(series 2)\n",
      "(series 3)\n",
      "(series 4)\n"
     ]
    },
    {
     "name": "stderr",
     "output_type": "stream",
     "text": [
      "C:\\Users\\LiuShu\\miniconda3\\envs\\main\\Lib\\site-packages\\statsmodels\\tsa\\statespace\\sarimax.py:966: UserWarning: Non-stationary starting autoregressive parameters found. Using zeros as starting parameters.\n",
      "  warn('Non-stationary starting autoregressive parameters'\n",
      "C:\\Users\\LiuShu\\miniconda3\\envs\\main\\Lib\\site-packages\\statsmodels\\base\\model.py:607: ConvergenceWarning: Maximum Likelihood optimization failed to converge. Check mle_retvals\n",
      "  warnings.warn(\"Maximum Likelihood optimization failed to \"\n"
     ]
    },
    {
     "name": "stdout",
     "output_type": "stream",
     "text": [
      "(series 5)\n",
      "(series 6)\n"
     ]
    },
    {
     "name": "stderr",
     "output_type": "stream",
     "text": [
      "C:\\Users\\LiuShu\\miniconda3\\envs\\main\\Lib\\site-packages\\statsmodels\\base\\model.py:607: ConvergenceWarning: Maximum Likelihood optimization failed to converge. Check mle_retvals\n",
      "  warnings.warn(\"Maximum Likelihood optimization failed to \"\n"
     ]
    },
    {
     "name": "stdout",
     "output_type": "stream",
     "text": [
      "(series 7)\n"
     ]
    },
    {
     "name": "stderr",
     "output_type": "stream",
     "text": [
      "C:\\Users\\LiuShu\\miniconda3\\envs\\main\\Lib\\site-packages\\statsmodels\\base\\model.py:607: ConvergenceWarning: Maximum Likelihood optimization failed to converge. Check mle_retvals\n",
      "  warnings.warn(\"Maximum Likelihood optimization failed to \"\n"
     ]
    },
    {
     "name": "stdout",
     "output_type": "stream",
     "text": [
      "(series 8)\n",
      "(series 9)\n",
      "(series 10)\n",
      "(series 11)\n"
     ]
    },
    {
     "name": "stderr",
     "output_type": "stream",
     "text": [
      "C:\\Users\\LiuShu\\miniconda3\\envs\\main\\Lib\\site-packages\\statsmodels\\tsa\\statespace\\sarimax.py:966: UserWarning: Non-stationary starting autoregressive parameters found. Using zeros as starting parameters.\n",
      "  warn('Non-stationary starting autoregressive parameters'\n",
      "C:\\Users\\LiuShu\\miniconda3\\envs\\main\\Lib\\site-packages\\statsmodels\\base\\model.py:607: ConvergenceWarning: Maximum Likelihood optimization failed to converge. Check mle_retvals\n",
      "  warnings.warn(\"Maximum Likelihood optimization failed to \"\n"
     ]
    },
    {
     "name": "stdout",
     "output_type": "stream",
     "text": [
      "(series 12)\n",
      "(series 13)\n",
      "(series 14)\n",
      "(series 15)\n",
      "(series 16)\n",
      "(series 17)\n",
      "(series 18)\n",
      "(series 19)\n",
      "(series 20)\n",
      "(series 21)\n",
      "(series 22)\n"
     ]
    },
    {
     "name": "stderr",
     "output_type": "stream",
     "text": [
      "C:\\Users\\LiuShu\\miniconda3\\envs\\main\\Lib\\site-packages\\statsmodels\\tsa\\statespace\\sarimax.py:966: UserWarning: Non-stationary starting autoregressive parameters found. Using zeros as starting parameters.\n",
      "  warn('Non-stationary starting autoregressive parameters'\n"
     ]
    },
    {
     "name": "stdout",
     "output_type": "stream",
     "text": [
      "(series 23)\n",
      "(series 24)\n",
      "(series 25)\n",
      "(series 26)\n",
      "(series 27)\n",
      "(series 28)\n",
      "(series 29)\n"
     ]
    },
    {
     "name": "stderr",
     "output_type": "stream",
     "text": [
      "C:\\Users\\LiuShu\\miniconda3\\envs\\main\\Lib\\site-packages\\statsmodels\\base\\model.py:607: ConvergenceWarning: Maximum Likelihood optimization failed to converge. Check mle_retvals\n",
      "  warnings.warn(\"Maximum Likelihood optimization failed to \"\n"
     ]
    },
    {
     "name": "stdout",
     "output_type": "stream",
     "text": [
      "(series 30)\n",
      "(series 31)\n",
      "(series 32)\n",
      "(series 33)\n"
     ]
    },
    {
     "name": "stderr",
     "output_type": "stream",
     "text": [
      "C:\\Users\\LiuShu\\miniconda3\\envs\\main\\Lib\\site-packages\\statsmodels\\base\\model.py:607: ConvergenceWarning: Maximum Likelihood optimization failed to converge. Check mle_retvals\n",
      "  warnings.warn(\"Maximum Likelihood optimization failed to \"\n"
     ]
    },
    {
     "name": "stdout",
     "output_type": "stream",
     "text": [
      "(series 34)\n",
      "(series 35)\n",
      "(series 36)\n"
     ]
    },
    {
     "name": "stderr",
     "output_type": "stream",
     "text": [
      "C:\\Users\\LiuShu\\miniconda3\\envs\\main\\Lib\\site-packages\\statsmodels\\base\\model.py:607: ConvergenceWarning: Maximum Likelihood optimization failed to converge. Check mle_retvals\n",
      "  warnings.warn(\"Maximum Likelihood optimization failed to \"\n"
     ]
    },
    {
     "name": "stdout",
     "output_type": "stream",
     "text": [
      "(series 37)\n",
      "(series 38)\n",
      "(series 39)\n",
      "(series 40)\n",
      "(series 41)\n",
      "(series 42)\n"
     ]
    },
    {
     "name": "stderr",
     "output_type": "stream",
     "text": [
      "C:\\Users\\LiuShu\\miniconda3\\envs\\main\\Lib\\site-packages\\statsmodels\\base\\model.py:607: ConvergenceWarning: Maximum Likelihood optimization failed to converge. Check mle_retvals\n",
      "  warnings.warn(\"Maximum Likelihood optimization failed to \"\n"
     ]
    },
    {
     "name": "stdout",
     "output_type": "stream",
     "text": [
      "(series 43)\n",
      "(series 44)\n",
      "(series 45)\n",
      "(series 46)\n",
      "(series 47)\n",
      "(series 48)\n",
      "(series 49)\n",
      "(series 50)\n",
      "(series 51)\n",
      "(series 52)\n",
      "(series 53)\n",
      "(series 54)\n",
      "(series 55)\n",
      "(series 56)\n",
      "MSE: 13407927619.969477\n",
      "s-rmse: 0.6344733945084381\n",
      "s-mae: 0.4990425298583654\n",
      "smape: 0.5246302815634883\n",
      ">>>>>>>> cluster 1 <<<<<<<<\n",
      "(series 0)\n"
     ]
    },
    {
     "name": "stderr",
     "output_type": "stream",
     "text": [
      "C:\\Users\\LiuShu\\miniconda3\\envs\\main\\Lib\\site-packages\\statsmodels\\tsa\\statespace\\sarimax.py:966: UserWarning: Non-stationary starting autoregressive parameters found. Using zeros as starting parameters.\n",
      "  warn('Non-stationary starting autoregressive parameters'\n",
      "C:\\Users\\LiuShu\\miniconda3\\envs\\main\\Lib\\site-packages\\statsmodels\\base\\model.py:607: ConvergenceWarning: Maximum Likelihood optimization failed to converge. Check mle_retvals\n",
      "  warnings.warn(\"Maximum Likelihood optimization failed to \"\n"
     ]
    },
    {
     "name": "stdout",
     "output_type": "stream",
     "text": [
      "(series 1)\n",
      "(series 2)\n",
      "(series 3)\n",
      "(series 4)\n",
      "(series 5)\n",
      "(series 6)\n",
      "(series 7)\n",
      "(series 8)\n",
      "(series 9)\n",
      "(series 10)\n",
      "(series 11)\n",
      "(series 12)\n",
      "(series 13)\n",
      "(series 14)\n",
      "(series 15)\n"
     ]
    },
    {
     "name": "stderr",
     "output_type": "stream",
     "text": [
      "C:\\Users\\LiuShu\\miniconda3\\envs\\main\\Lib\\site-packages\\statsmodels\\tsa\\statespace\\sarimax.py:966: UserWarning: Non-stationary starting autoregressive parameters found. Using zeros as starting parameters.\n",
      "  warn('Non-stationary starting autoregressive parameters'\n"
     ]
    },
    {
     "name": "stdout",
     "output_type": "stream",
     "text": [
      "(series 16)\n"
     ]
    },
    {
     "name": "stderr",
     "output_type": "stream",
     "text": [
      "C:\\Users\\LiuShu\\miniconda3\\envs\\main\\Lib\\site-packages\\statsmodels\\tsa\\statespace\\sarimax.py:966: UserWarning: Non-stationary starting autoregressive parameters found. Using zeros as starting parameters.\n",
      "  warn('Non-stationary starting autoregressive parameters'\n",
      "C:\\Users\\LiuShu\\miniconda3\\envs\\main\\Lib\\site-packages\\statsmodels\\base\\model.py:607: ConvergenceWarning: Maximum Likelihood optimization failed to converge. Check mle_retvals\n",
      "  warnings.warn(\"Maximum Likelihood optimization failed to \"\n"
     ]
    },
    {
     "name": "stdout",
     "output_type": "stream",
     "text": [
      "(series 17)\n",
      "(series 18)\n",
      "(series 19)\n",
      "(series 20)\n"
     ]
    },
    {
     "name": "stderr",
     "output_type": "stream",
     "text": [
      "C:\\Users\\LiuShu\\miniconda3\\envs\\main\\Lib\\site-packages\\statsmodels\\tsa\\statespace\\sarimax.py:966: UserWarning: Non-stationary starting autoregressive parameters found. Using zeros as starting parameters.\n",
      "  warn('Non-stationary starting autoregressive parameters'\n"
     ]
    },
    {
     "name": "stdout",
     "output_type": "stream",
     "text": [
      "(series 21)\n",
      "(series 22)\n",
      "(series 23)\n",
      "(series 24)\n",
      "(series 25)\n",
      "(series 26)\n",
      "(series 27)\n",
      "(series 28)\n",
      "(series 29)\n",
      "(series 30)\n",
      "(series 31)\n",
      "(series 32)\n",
      "(series 33)\n",
      "(series 34)\n",
      "(series 35)\n",
      "(series 36)\n",
      "MSE: 23324265153.25917\n",
      "s-rmse: 0.644132119718957\n",
      "s-mae: 0.5132981459793501\n",
      "smape: 0.5295039348069143\n",
      ">>>>>>>> cluster 2 <<<<<<<<\n",
      "(series 0)\n",
      "(series 1)\n"
     ]
    },
    {
     "name": "stderr",
     "output_type": "stream",
     "text": [
      "C:\\Users\\LiuShu\\miniconda3\\envs\\main\\Lib\\site-packages\\statsmodels\\tsa\\statespace\\sarimax.py:966: UserWarning: Non-stationary starting autoregressive parameters found. Using zeros as starting parameters.\n",
      "  warn('Non-stationary starting autoregressive parameters'\n"
     ]
    },
    {
     "name": "stdout",
     "output_type": "stream",
     "text": [
      "(series 2)\n",
      "(series 3)\n",
      "(series 4)\n"
     ]
    },
    {
     "name": "stderr",
     "output_type": "stream",
     "text": [
      "C:\\Users\\LiuShu\\miniconda3\\envs\\main\\Lib\\site-packages\\statsmodels\\tsa\\statespace\\sarimax.py:966: UserWarning: Non-stationary starting autoregressive parameters found. Using zeros as starting parameters.\n",
      "  warn('Non-stationary starting autoregressive parameters'\n",
      "C:\\Users\\LiuShu\\miniconda3\\envs\\main\\Lib\\site-packages\\statsmodels\\base\\model.py:607: ConvergenceWarning: Maximum Likelihood optimization failed to converge. Check mle_retvals\n",
      "  warnings.warn(\"Maximum Likelihood optimization failed to \"\n"
     ]
    },
    {
     "name": "stdout",
     "output_type": "stream",
     "text": [
      "(series 5)\n"
     ]
    },
    {
     "name": "stderr",
     "output_type": "stream",
     "text": [
      "C:\\Users\\LiuShu\\miniconda3\\envs\\main\\Lib\\site-packages\\statsmodels\\base\\model.py:607: ConvergenceWarning: Maximum Likelihood optimization failed to converge. Check mle_retvals\n",
      "  warnings.warn(\"Maximum Likelihood optimization failed to \"\n"
     ]
    },
    {
     "name": "stdout",
     "output_type": "stream",
     "text": [
      "(series 6)\n",
      "(series 7)\n",
      "(series 8)\n",
      "(series 9)\n"
     ]
    },
    {
     "name": "stderr",
     "output_type": "stream",
     "text": [
      "C:\\Users\\LiuShu\\miniconda3\\envs\\main\\Lib\\site-packages\\statsmodels\\tsa\\statespace\\sarimax.py:966: UserWarning: Non-stationary starting autoregressive parameters found. Using zeros as starting parameters.\n",
      "  warn('Non-stationary starting autoregressive parameters'\n",
      "C:\\Users\\LiuShu\\miniconda3\\envs\\main\\Lib\\site-packages\\statsmodels\\base\\model.py:607: ConvergenceWarning: Maximum Likelihood optimization failed to converge. Check mle_retvals\n",
      "  warnings.warn(\"Maximum Likelihood optimization failed to \"\n"
     ]
    },
    {
     "name": "stdout",
     "output_type": "stream",
     "text": [
      "MSE: 39256060034.83702\n",
      "s-rmse: 0.633310292511345\n",
      "s-mae: 0.5142559669901041\n",
      "smape: 0.5591488606906787\n",
      ">>>>>>>> cluster 3 <<<<<<<<\n",
      "(series 0)\n",
      "(series 1)\n",
      "(series 2)\n",
      "(series 3)\n",
      "(series 4)\n",
      "(series 5)\n",
      "(series 6)\n",
      "(series 7)\n",
      "(series 8)\n",
      "(series 9)\n",
      "(series 10)\n",
      "(series 11)\n",
      "(series 12)\n"
     ]
    },
    {
     "name": "stderr",
     "output_type": "stream",
     "text": [
      "C:\\Users\\LiuShu\\miniconda3\\envs\\main\\Lib\\site-packages\\statsmodels\\base\\model.py:607: ConvergenceWarning: Maximum Likelihood optimization failed to converge. Check mle_retvals\n",
      "  warnings.warn(\"Maximum Likelihood optimization failed to \"\n"
     ]
    },
    {
     "name": "stdout",
     "output_type": "stream",
     "text": [
      "(series 13)\n",
      "(series 14)\n"
     ]
    },
    {
     "name": "stderr",
     "output_type": "stream",
     "text": [
      "C:\\Users\\LiuShu\\miniconda3\\envs\\main\\Lib\\site-packages\\statsmodels\\base\\model.py:607: ConvergenceWarning: Maximum Likelihood optimization failed to converge. Check mle_retvals\n",
      "  warnings.warn(\"Maximum Likelihood optimization failed to \"\n"
     ]
    },
    {
     "name": "stdout",
     "output_type": "stream",
     "text": [
      "(series 15)\n",
      "(series 16)\n",
      "(series 17)\n",
      "(series 18)\n",
      "(series 19)\n",
      "(series 20)\n",
      "(series 21)\n",
      "(series 22)\n",
      "(series 23)\n",
      "(series 24)\n",
      "(series 25)\n",
      "(series 26)\n"
     ]
    },
    {
     "name": "stderr",
     "output_type": "stream",
     "text": [
      "C:\\Users\\LiuShu\\miniconda3\\envs\\main\\Lib\\site-packages\\statsmodels\\base\\model.py:607: ConvergenceWarning: Maximum Likelihood optimization failed to converge. Check mle_retvals\n",
      "  warnings.warn(\"Maximum Likelihood optimization failed to \"\n"
     ]
    },
    {
     "name": "stdout",
     "output_type": "stream",
     "text": [
      "(series 27)\n",
      "(series 28)\n",
      "(series 29)\n",
      "(series 30)\n",
      "(series 31)\n",
      "(series 32)\n",
      "(series 33)\n"
     ]
    },
    {
     "name": "stderr",
     "output_type": "stream",
     "text": [
      "C:\\Users\\LiuShu\\miniconda3\\envs\\main\\Lib\\site-packages\\statsmodels\\base\\model.py:607: ConvergenceWarning: Maximum Likelihood optimization failed to converge. Check mle_retvals\n",
      "  warnings.warn(\"Maximum Likelihood optimization failed to \"\n"
     ]
    },
    {
     "name": "stdout",
     "output_type": "stream",
     "text": [
      "(series 34)\n",
      "(series 35)\n",
      "(series 36)\n",
      "(series 37)\n",
      "(series 38)\n",
      "(series 39)\n"
     ]
    },
    {
     "name": "stderr",
     "output_type": "stream",
     "text": [
      "C:\\Users\\LiuShu\\miniconda3\\envs\\main\\Lib\\site-packages\\statsmodels\\base\\model.py:607: ConvergenceWarning: Maximum Likelihood optimization failed to converge. Check mle_retvals\n",
      "  warnings.warn(\"Maximum Likelihood optimization failed to \"\n"
     ]
    },
    {
     "name": "stdout",
     "output_type": "stream",
     "text": [
      "(series 40)\n",
      "(series 41)\n"
     ]
    },
    {
     "name": "stderr",
     "output_type": "stream",
     "text": [
      "C:\\Users\\LiuShu\\miniconda3\\envs\\main\\Lib\\site-packages\\statsmodels\\base\\model.py:607: ConvergenceWarning: Maximum Likelihood optimization failed to converge. Check mle_retvals\n",
      "  warnings.warn(\"Maximum Likelihood optimization failed to \"\n"
     ]
    },
    {
     "name": "stdout",
     "output_type": "stream",
     "text": [
      "(series 42)\n",
      "(series 43)\n",
      "(series 44)\n",
      "MSE: 8241134987.387107\n",
      "s-rmse: 0.6287329259372938\n",
      "s-mae: 0.47658413956774914\n",
      "smape: 0.5031728287589571\n"
     ]
    }
   ],
   "execution_count": 35
  },
  {
   "metadata": {
    "ExecuteTime": {
     "end_time": "2025-01-25T08:29:56.000775Z",
     "start_time": "2025-01-25T08:29:55.763607Z"
    }
   },
   "cell_type": "code",
   "source": [
    "data[0].iloc[:, 4].plot(figsize=(20, 5))\n",
    "test_stationarity(data[0].iloc[:, 4])\n",
    "test_stationarity(data[0].iloc[:, 4].diff(1).dropna())"
   ],
   "id": "f097e316ec6dcf20",
   "outputs": [
    {
     "name": "stdout",
     "output_type": "stream",
     "text": [
      "Results of Dickey-Fuller Test:\n",
      "Test Statistic                  -5.560549\n",
      "p-value                          0.000002\n",
      "#Lags Used                      14.000000\n",
      "Number of Observations Used    716.000000\n",
      "Critical Value (1%)             -3.439516\n",
      "Critical Value (5%)             -2.865585\n",
      "Critical Value (10%)            -2.568924\n",
      "dtype: float64\n",
      "Results of Dickey-Fuller Test:\n",
      "Test Statistic                -9.268818e+00\n",
      "p-value                        1.344051e-15\n",
      "#Lags Used                     2.000000e+01\n",
      "Number of Observations Used    7.090000e+02\n",
      "Critical Value (1%)           -3.439607e+00\n",
      "Critical Value (5%)           -2.865625e+00\n",
      "Critical Value (10%)          -2.568945e+00\n",
      "dtype: float64\n"
     ]
    },
    {
     "data": {
      "text/plain": [
       "<Figure size 2000x500 with 1 Axes>"
      ],
      "image/png": "[encoded data removed]"
     },
     "metadata": {},
     "output_type": "display_data"
    }
   ],
   "execution_count": 36
  },
  {
   "metadata": {
    "ExecuteTime": {
     "end_time": "2025-01-25T08:29:56.026454Z",
     "start_time": "2025-01-25T08:29:56.016810Z"
    }
   },
   "cell_type": "code",
   "source": [
    "for i, m in enumerate(metrics_list):\n",
    "\tpd.DataFrame(m).to_csv(f'./ARIMA/cluster_{i}_metrics.csv', index=False)"
   ],
   "id": "a267acc083744635",
   "outputs": [],
   "execution_count": 37
  },
  {
   "metadata": {
    "ExecuteTime": {
     "end_time": "2025-01-25T08:29:56.046007Z",
     "start_time": "2025-01-25T08:29:56.041662Z"
    }
   },
   "cell_type": "code",
   "source": "pd.DataFrame(metrics_list[0]).mean(axis=0)",
   "id": "cbec74daae83b70",
   "outputs": [
    {
     "data": {
      "text/plain": [
       "mse       1.340793e+10\n",
       "s-rmse    6.344734e-01\n",
       "s-mae     4.990425e-01\n",
       "smape     5.246303e-01\n",
       "dtype: float64"
      ]
     },
     "execution_count": 38,
     "metadata": {},
     "output_type": "execute_result"
    }
   ],
   "execution_count": 38
  },
  {
   "metadata": {
    "ExecuteTime": {
     "end_time": "2025-01-25T08:29:56.087913Z",
     "start_time": "2025-01-25T08:29:56.083457Z"
    }
   },
   "cell_type": "code",
   "source": "pd.DataFrame(metrics_list[1]).mean(axis=0)",
   "id": "4378a79c2ab5a331",
   "outputs": [
    {
     "data": {
      "text/plain": [
       "mse       2.332427e+10\n",
       "s-rmse    6.441321e-01\n",
       "s-mae     5.132981e-01\n",
       "smape     5.295039e-01\n",
       "dtype: float64"
      ]
     },
     "execution_count": 39,
     "metadata": {},
     "output_type": "execute_result"
    }
   ],
   "execution_count": 39
  },
  {
   "metadata": {
    "ExecuteTime": {
     "end_time": "2025-01-25T08:29:56.119288Z",
     "start_time": "2025-01-25T08:29:56.114433Z"
    }
   },
   "cell_type": "code",
   "source": "pd.DataFrame(metrics_list[2]).mean(axis=0)",
   "id": "77179ac31a967165",
   "outputs": [
    {
     "data": {
      "text/plain": [
       "mse       3.925606e+10\n",
       "s-rmse    6.333103e-01\n",
       "s-mae     5.142560e-01\n",
       "smape     5.591489e-01\n",
       "dtype: float64"
      ]
     },
     "execution_count": 40,
     "metadata": {},
     "output_type": "execute_result"
    }
   ],
   "execution_count": 40
  },
  {
   "metadata": {
    "ExecuteTime": {
     "end_time": "2025-01-25T08:29:56.193815Z",
     "start_time": "2025-01-25T08:29:56.188087Z"
    }
   },
   "cell_type": "code",
   "source": "pd.DataFrame(metrics_list[3]).mean(axis=0)",
   "id": "f42cb4a5f6a18c99",
   "outputs": [
    {
     "data": {
      "text/plain": [
       "mse       8.241135e+09\n",
       "s-rmse    6.287329e-01\n",
       "s-mae     4.765841e-01\n",
       "smape     5.031728e-01\n",
       "dtype: float64"
      ]
     },
     "execution_count": 41,
     "metadata": {},
     "output_type": "execute_result"
    }
   ],
   "execution_count": 41
  }
 ],
 "metadata": {
  "kernelspec": {
   "display_name": "Python 3",
   "language": "python",
   "name": "python3"
  },
  "language_info": {
   "codemirror_mode": {
    "name": "ipython",
    "version": 2
   },
   "file_extension": ".py",
   "mimetype": "text/x-python",
   "name": "python",
   "nbconvert_exporter": "python",
   "pygments_lexer": "ipython2",
   "version": "2.7.6"
  }
 },
 "nbformat": 4,
 "nbformat_minor": 5
}
