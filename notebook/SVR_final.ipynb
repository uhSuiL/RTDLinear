{
 "cells": [
  {
   "cell_type": "code",
   "id": "initial_id",
   "metadata": {
    "collapsed": true,
    "ExecuteTime": {
     "end_time": "2025-01-25T09:45:44.295273Z",
     "start_time": "2025-01-25T09:45:44.291030Z"
    }
   },
   "source": [
    "import dataset as ds\n",
    "\n",
    "from dataset.util import load_clustered_data, train_valid_test, prepare_time_series\n",
    "from dataset import SlidingWinDataset, ClusterDataset\n",
    "\n",
    "import pandas as pd\n",
    "import numpy as np\n",
    "\n",
    "from torch.utils.data import Dataset\n",
    "from sklearn.svm import SVR\n",
    "from sklearn.ensemble import GradientBoostingRegressor\n",
    "from sklearn.metrics import mean_squared_error, mean_absolute_error, root_mean_squared_error\n",
    "\n",
    "from model.conventional import individual_model_pipeline"
   ],
   "outputs": [],
   "execution_count": 20
  },
  {
   "metadata": {
    "ExecuteTime": {
     "end_time": "2025-01-25T09:45:44.308971Z",
     "start_time": "2025-01-25T09:45:44.298414Z"
    }
   },
   "cell_type": "code",
   "source": [
    "cluster_num_series = [57, 37, 10, 45]\n",
    "\n"
   ],
   "id": "7b64e51b60c5490e",
   "outputs": [],
   "execution_count": 21
  },
  {
   "metadata": {
    "ExecuteTime": {
     "end_time": "2025-01-25T09:45:44.348675Z",
     "start_time": "2025-01-25T09:45:44.329058Z"
    }
   },
   "cell_type": "code",
   "source": [
    "data = load_clustered_data(\n",
    "\tcluster_info='../data/cluster_info/cluster_info_a_s.csv',\n",
    "\tprocessed_data='../data/processed/data.csv'\n",
    ")\n",
    "\n",
    "\n",
    "def load_data(_cluster_id, _sliding_win) -> tuple[Dataset, Dataset, Dataset]:\n",
    "\tdf = ds.util.load_clustered_data(\n",
    "\t\t# cluster_info='../data/cluster_info/cluster_info_f_a.csv',\n",
    "\t\tcluster_info='../data/cluster_info/cluster_info_a_s.csv',\n",
    "\t\tprocessed_data='../data/processed/data.csv',\n",
    "\t)[_cluster_id]\n",
    "\n",
    "\tcluster_datasets = {'train': [], 'valid': [], 'test': []}\n",
    "\tfor series_id in df.columns:\n",
    "\t\tseries_data, num_time_feat = prepare_time_series(df, series_id)\n",
    "\t\tseries_data = series_data.reset_index().rename(columns={'index': 'time_ticks'})\n",
    "\n",
    "\t\t_train_data, _valid_data, _test_data = train_valid_test(\n",
    "\t\t\tseries_data,\n",
    "\t\t\ttrain_ratio=0.7,\n",
    "\t\t\ttest_ratio=0.2,\n",
    "\t\t)\n",
    "\t\tcluster_datasets['train'].append(ds.SlidingWinDataset(_train_data, sliding_win=_sliding_win))\n",
    "\t\tcluster_datasets['valid'].append(ds.SlidingWinDataset(_valid_data, sliding_win=_sliding_win))\n",
    "\t\tcluster_datasets['test'].append(ds.SlidingWinDataset(_test_data, sliding_win=_sliding_win))\n",
    "\t\t\n",
    "\treturn (\n",
    "\t\tClusterDataset(cluster_datasets['train']),\n",
    "\t\tClusterDataset(cluster_datasets['valid']),\n",
    "\t\tClusterDataset(cluster_datasets['test']),\n",
    "\t)"
   ],
   "id": "3d3e92fd6137a5f5",
   "outputs": [],
   "execution_count": 22
  },
  {
   "metadata": {
    "ExecuteTime": {
     "end_time": "2025-01-25T09:46:58.230630Z",
     "start_time": "2025-01-25T09:45:44.370899Z"
    }
   },
   "cell_type": "code",
   "source": [
    "for c in range(4):\n",
    "\ttrain_set, valid_set, test_set = load_data(c, 20)\n",
    "\t\n",
    "\tdef process_dataset(dataset):\n",
    "\t\ty_array, x_array = [], []\n",
    "\t\tfor i in range(len(dataset)):\n",
    "\t\t\tcid, (_y, _x) = dataset[i]\n",
    "\t\t\ty_array.append(_y[1].item())\n",
    "\t\t\tx_array.append(_x[:, 1].numpy())\n",
    "\t\t\t\n",
    "\t\ty_array = np.array(y_array)\n",
    "\t\tx_array = np.array(x_array)\n",
    "\t\treturn x_array, y_array\n",
    "\t\n",
    "\ttrain_x, train_y = process_dataset(train_set)\n",
    "\tvalid_x, valid_y = process_dataset(valid_set)\n",
    "\ttest_x, test_y = process_dataset(test_set)\n",
    "\t\n",
    "\t\n",
    "\tdef process_dataset(dataset):\n",
    "\t\ty_array, x_array = [], []\n",
    "\t\tfor i in range(len(dataset)):\n",
    "\t\t\tcid, (_y, _x) = dataset[i]\n",
    "\t\t\ty_array.append(_y[1].item())\n",
    "\t\t\tx_array.append(_x[:, 1].numpy())\n",
    "\t\t\t\n",
    "\t\ty_array = np.array(y_array)\n",
    "\t\tx_array = np.array(x_array)\n",
    "\t\treturn x_array, y_array\n",
    "\t\n",
    "\ttrain_x, train_y = process_dataset(train_set)\n",
    "\tvalid_x, valid_y = process_dataset(valid_set)\n",
    "\ttest_x, test_y = process_dataset(test_set)\n",
    "\t\n",
    "\tmodel = SVR()\n",
    "\tmodel.fit(train_x, train_y)\n",
    "\t\n",
    "\tvalid_y_pred = model.predict(valid_x)\n",
    "\tprint(\n",
    "\t\tmean_squared_error(valid_y, valid_y_pred),\n",
    "\t\troot_mean_squared_error(valid_y, valid_y_pred),\n",
    "\t\tmean_absolute_error(valid_y, valid_y_pred),\n",
    "\t)\n",
    "\t\n",
    "\ttest_y_pred = model.predict(test_x)\n",
    "\tprint(\n",
    "\t\tmean_squared_error(test_y, test_y_pred),\n",
    "\t\troot_mean_squared_error(test_y, test_y_pred),\n",
    "\t\tmean_absolute_error(test_y, test_y_pred),\n",
    "\t)\n",
    "\t\n",
    "\t\n",
    "\ty_true2 = test_y.reshape(cluster_num_series[c], -1)\n",
    "\ty_pred2 = test_y_pred.reshape(cluster_num_series[c], -1)\n",
    "\t\n",
    "\tmse = np.square(y_true2 - y_pred2).mean(axis=0)\n",
    "\tmae = abs(y_true2 - y_pred2).mean(axis=0)\n",
    "\trmse = np.sqrt(mse)\n",
    "\t\n",
    "\tsmape = (2 * abs(y_pred2 - y_true2) / (abs(y_pred2) + abs(y_true2))).mean(axis=0)\n",
    "\tdstat = ((y_true2[1:] - y_true2[:-1]) * (y_pred2[1:] - y_pred2[:1]) > 0).mean(axis=0)\n",
    "\ts_rmse = rmse / y_true2.mean(axis=0)\n",
    "\ts_mae = mae / y_true2.mean(axis=0)\n",
    "\t\n",
    "\tpd.Series([s_rmse.mean(), s_mae.mean(), dstat.mean(), smape.mean()], index=['s-rmse', 's-mae', 'dstat', 'smape']).rename(f'cluster {c}').to_csv(f'./SVR_metrics(mean)_cluster_{c}.csv')\n",
    "\tpd.Series([np.median(s_rmse), np.median(s_mae), np.median(dstat), np.median(smape)], index=['s-rmse', 's-mae', 'dstat', 'smape']).rename(f'cluster {c}').to_csv(f'./SVR_metrics(median)_cluster_{c}.csv')"
   ],
   "id": "9d1e8da0eecbb70d",
   "outputs": [
    {
     "name": "stdout",
     "output_type": "stream",
     "text": [
      "11524866459.346952 107353.93080528981 85651.39796925348\n",
      "12180683714.538296 110366.1348174262 85928.60947320386\n",
      "19226248610.2898 138658.74876937913 113628.56601626823\n",
      "23733056150.564598 154055.36715922816 122740.49561587359\n",
      "37091545841.45325 192591.65569009798 157980.2969695526\n",
      "40932269703.547485 202317.2501383594 168077.65097410182\n",
      "5462744579.145 73910.38207954956 56819.451483748504\n",
      "8110993758.605544 90061.05572668769 66007.68419553844\n"
     ]
    }
   ],
   "execution_count": 23
  },
  {
   "metadata": {
    "ExecuteTime": {
     "end_time": "2025-01-25T09:46:58.266162Z",
     "start_time": "2025-01-25T09:46:58.253292Z"
    }
   },
   "cell_type": "code",
   "source": "assert False",
   "id": "7bc9903be0a1d5a1",
   "outputs": [
    {
     "ename": "AssertionError",
     "evalue": "",
     "output_type": "error",
     "traceback": [
      "\u001B[1;31m---------------------------------------------------------------------------\u001B[0m",
      "\u001B[1;31mAssertionError\u001B[0m                            Traceback (most recent call last)",
      "Cell \u001B[1;32mIn[24], line 1\u001B[0m\n\u001B[1;32m----> 1\u001B[0m \u001B[38;5;28;01massert\u001B[39;00m \u001B[38;5;28;01mFalse\u001B[39;00m\n",
      "\u001B[1;31mAssertionError\u001B[0m: "
     ]
    }
   ],
   "execution_count": 24
  },
  {
   "metadata": {
    "ExecuteTime": {
     "end_time": "2025-01-25T09:46:58.274329100Z",
     "start_time": "2024-09-21T15:19:30.228782Z"
    }
   },
   "cell_type": "code",
   "source": [
    "cluster_df = data[0]\n",
    "\n",
    "new_cluster_df = []\n",
    "for cluster_id in cluster_df.columns:\n",
    "\tcluster_series = cluster_df.loc[:, cluster_id].rename('atm_balance')\n",
    "\tcluster_id_series = pd.Series(\n",
    "\t\t[cluster_id] * cluster_series.shape[0], \n",
    "\t\tindex=cluster_series.index, name='atm_name'\n",
    "\t)\n",
    "\tnew_cluster_df.append(pd.concat([cluster_series, cluster_id_series], axis=1))\n",
    "\t\n",
    "new_cluster_df = pd.concat(new_cluster_df, axis=0, ignore_index=True)\n",
    "\n",
    "new_cluster_df['atm_id'] = new_cluster_df['atm_name'].map({\n",
    "\t_name: _id \n",
    "\tfor _id, _name in enumerate(new_cluster_df['atm_name'].unique())\n",
    "})\n",
    "\n",
    "new_cluster_df"
   ],
   "id": "d13fd60055e6aba",
   "outputs": [
    {
     "data": {
      "text/plain": [
       "      atm_balance atm_name  atm_id\n",
       "0          412100     9254       0\n",
       "1          391500     9254       0\n",
       "2          530200     9254       0\n",
       "3          413800     9254       0\n",
       "4          470000     9254       0\n",
       "...           ...      ...     ...\n",
       "2188        28500     9192       2\n",
       "2189         2500     9192       2\n",
       "2190         7600     9192       2\n",
       "2191        32200     9192       2\n",
       "2192        34800     9192       2\n",
       "\n",
       "[2193 rows x 3 columns]"
      ],
      "text/html": [
       "<div>\n",
       "<style scoped>\n",
       "    .dataframe tbody tr th:only-of-type {\n",
       "        vertical-align: middle;\n",
       "    }\n",
       "\n",
       "    .dataframe tbody tr th {\n",
       "        vertical-align: top;\n",
       "    }\n",
       "\n",
       "    .dataframe thead th {\n",
       "        text-align: right;\n",
       "    }\n",
       "</style>\n",
       "<table border=\"1\" class=\"dataframe\">\n",
       "  <thead>\n",
       "    <tr style=\"text-align: right;\">\n",
       "      <th></th>\n",
       "      <th>atm_balance</th>\n",
       "      <th>atm_name</th>\n",
       "      <th>atm_id</th>\n",
       "    </tr>\n",
       "  </thead>\n",
       "  <tbody>\n",
       "    <tr>\n",
       "      <th>0</th>\n",
       "      <td>412100</td>\n",
       "      <td>9254</td>\n",
       "      <td>0</td>\n",
       "    </tr>\n",
       "    <tr>\n",
       "      <th>1</th>\n",
       "      <td>391500</td>\n",
       "      <td>9254</td>\n",
       "      <td>0</td>\n",
       "    </tr>\n",
       "    <tr>\n",
       "      <th>2</th>\n",
       "      <td>530200</td>\n",
       "      <td>9254</td>\n",
       "      <td>0</td>\n",
       "    </tr>\n",
       "    <tr>\n",
       "      <th>3</th>\n",
       "      <td>413800</td>\n",
       "      <td>9254</td>\n",
       "      <td>0</td>\n",
       "    </tr>\n",
       "    <tr>\n",
       "      <th>4</th>\n",
       "      <td>470000</td>\n",
       "      <td>9254</td>\n",
       "      <td>0</td>\n",
       "    </tr>\n",
       "    <tr>\n",
       "      <th>...</th>\n",
       "      <td>...</td>\n",
       "      <td>...</td>\n",
       "      <td>...</td>\n",
       "    </tr>\n",
       "    <tr>\n",
       "      <th>2188</th>\n",
       "      <td>28500</td>\n",
       "      <td>9192</td>\n",
       "      <td>2</td>\n",
       "    </tr>\n",
       "    <tr>\n",
       "      <th>2189</th>\n",
       "      <td>2500</td>\n",
       "      <td>9192</td>\n",
       "      <td>2</td>\n",
       "    </tr>\n",
       "    <tr>\n",
       "      <th>2190</th>\n",
       "      <td>7600</td>\n",
       "      <td>9192</td>\n",
       "      <td>2</td>\n",
       "    </tr>\n",
       "    <tr>\n",
       "      <th>2191</th>\n",
       "      <td>32200</td>\n",
       "      <td>9192</td>\n",
       "      <td>2</td>\n",
       "    </tr>\n",
       "    <tr>\n",
       "      <th>2192</th>\n",
       "      <td>34800</td>\n",
       "      <td>9192</td>\n",
       "      <td>2</td>\n",
       "    </tr>\n",
       "  </tbody>\n",
       "</table>\n",
       "<p>2193 rows × 3 columns</p>\n",
       "</div>"
      ]
     },
     "execution_count": 77,
     "metadata": {},
     "output_type": "execute_result"
    }
   ],
   "execution_count": 77
  }
 ],
 "metadata": {
  "kernelspec": {
   "display_name": "Python 3",
   "language": "python",
   "name": "python3"
  },
  "language_info": {
   "codemirror_mode": {
    "name": "ipython",
    "version": 2
   },
   "file_extension": ".py",
   "mimetype": "text/x-python",
   "name": "python",
   "nbconvert_exporter": "python",
   "pygments_lexer": "ipython2",
   "version": "2.7.6"
  }
 },
 "nbformat": 4,
 "nbformat_minor": 5
}
